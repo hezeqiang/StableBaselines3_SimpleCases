{
 "cells": [
  {
   "cell_type": "code",
   "execution_count": 1,
   "metadata": {},
   "outputs": [
    {
     "data": {
      "text/plain": [
       "(array([ 0.01549727,  0.03949478, -0.03268917,  0.03669816], dtype=float32),\n",
       " {})"
      ]
     },
     "execution_count": 1,
     "metadata": {},
     "output_type": "execute_result"
    }
   ],
   "source": [
    "import gymnasium as gym\n",
    "\n",
    "\n",
    "#定义环境\n",
    "class MyWrapper(gym.Wrapper):\n",
    "\n",
    "    def __init__(self):\n",
    "        env = gym.make('CartPole-v1')\n",
    "        super().__init__(env)\n",
    "        self.env = env\n",
    "\n",
    "    def reset(self,**kwargs):\n",
    "\n",
    "        return self.env.reset(**kwargs)\n",
    "\n",
    "    def step(self, action):\n",
    "        state, reward, terminated, truncated, info = self.env.step(action)\n",
    "        return state, reward, terminated, truncated, info\n",
    "\n",
    "\n",
    "MyWrapper().reset()"
   ]
  },
  {
   "cell_type": "code",
   "execution_count": 2,
   "metadata": {
    "colab": {},
    "colab_type": "code",
    "id": "wjRvJ8zBftL3"
   },
   "outputs": [
    {
     "name": "stderr",
     "output_type": "stream",
     "text": [
      "c:\\Users\\13306\\anaconda3\\envs\\SB3\\lib\\site-packages\\tqdm\\auto.py:21: TqdmWarning: IProgress not found. Please update jupyter and ipywidgets. See https://ipywidgets.readthedocs.io/en/stable/user_install.html\n",
      "  from .autonotebook import tqdm as notebook_tqdm\n"
     ]
    },
    {
     "data": {
      "text/plain": [
       "<__main__.CustomCallback at 0x1d706152f80>"
      ]
     },
     "execution_count": 2,
     "metadata": {},
     "output_type": "execute_result"
    }
   ],
   "source": [
    "from stable_baselines3.common.callbacks import BaseCallback\n",
    "\n",
    "\n",
    "#Callback语法\n",
    "class CustomCallback(BaseCallback):\n",
    "\n",
    "    def __init__(self, verbose=0):\n",
    "        super().__init__(verbose)\n",
    "\n",
    "        #可以访问的变量\n",
    "        #self.model\n",
    "        #self.training_env\n",
    "        #self.n_calls\n",
    "        #self.num_timesteps\n",
    "        #self.locals\n",
    "        #self.globals\n",
    "        #self.logger\n",
    "        #self.parent\n",
    "\n",
    "    def _on_training_start(self) -> None:\n",
    "        #第一个rollout开始前调用\n",
    "        pass\n",
    "\n",
    "    def _on_rollout_start(self) -> None:\n",
    "        #rollout开始前\n",
    "        pass\n",
    "\n",
    "    def _on_step(self) -> bool:\n",
    "        #env.step()之后调用,返回False后停止训练\n",
    "        return True\n",
    "\n",
    "    def _on_rollout_end(self) -> None:\n",
    "        #更新参数前调用\n",
    "        pass\n",
    "\n",
    "    def _on_training_end(self) -> None:\n",
    "        #训练结束前调用\n",
    "        pass\n",
    "\n",
    "\n",
    "CustomCallback()"
   ]
  },
  {
   "cell_type": "code",
   "execution_count": 3,
   "metadata": {
    "colab": {},
    "colab_type": "code",
    "id": "7ILY0AkFfzPJ"
   },
   "outputs": [
    {
     "name": "stdout",
     "output_type": "stream",
     "text": [
      "20\n",
      "40\n",
      "60\n",
      "80\n",
      "100\n"
     ]
    },
    {
     "data": {
      "text/plain": [
       "<stable_baselines3.ppo.ppo.PPO at 0x1d7121c3c40>"
      ]
     },
     "execution_count": 3,
     "metadata": {},
     "output_type": "execute_result"
    }
   ],
   "source": [
    "from stable_baselines3 import PPO\n",
    "\n",
    "\n",
    "#让训练只执行N步的callback\n",
    "class SimpleCallback(BaseCallback):\n",
    "\n",
    "    def __init__(self):\n",
    "        super().__init__(verbose=0)\n",
    "        self.call_count = 0\n",
    "\n",
    "    def _on_step(self):\n",
    "        self.call_count += 1\n",
    "\n",
    "        if self.call_count % 20 == 0:\n",
    "            print(self.call_count)\n",
    "\n",
    "        if self.call_count >= 100:\n",
    "            return False\n",
    "\n",
    "        return True\n",
    "\n",
    "\n",
    "model = PPO('MlpPolicy', MyWrapper(), verbose=0)\n",
    "\n",
    "model.learn(8000, callback=SimpleCallback())"
   ]
  },
  {
   "cell_type": "code",
   "execution_count": 6,
   "metadata": {},
   "outputs": [
    {
     "data": {
      "text/plain": [
       "(40.7, 10.149384217774003)"
      ]
     },
     "execution_count": 6,
     "metadata": {},
     "output_type": "execute_result"
    }
   ],
   "source": [
    "from stable_baselines3.common.env_util import make_vec_env\n",
    "from stable_baselines3 import A2C\n",
    "from stable_baselines3.common.evaluation import evaluate_policy\n",
    "\n",
    "\n",
    "\n",
    "def test_callback(callback):\n",
    "\n",
    "    #创建Monitor封装的环境,这会在训练过程中写出日志文件到models文件夹\n",
    "    env = make_vec_env(MyWrapper, n_envs=2, monitor_dir='models')\n",
    "\n",
    "    #等价写法\n",
    "    # from stable_baselines3.common.monitor import Monitor\n",
    "    # from stable_baselines3.common.vec_env import DummyVecEnv\n",
    "    # env = Monitor(MyWrapper(), 'models')\n",
    "    # env = DummyVecEnv([lambda: env])\n",
    "\n",
    "    #训练\n",
    "    model = A2C('MlpPolicy', env, verbose=0).learn(total_timesteps=1000,\n",
    "                                                   callback=callback)\n",
    "\n",
    "    #测试\n",
    "    return evaluate_policy(model, MyWrapper(), n_eval_episodes=20)\n",
    "\n",
    "\n",
    "#使用Monitor封装的环境训练一个模型,保存下日志\n",
    "#只是为了测试load_results, ts2xy这两个函数\n",
    "test_callback(None)"
   ]
  },
  {
   "cell_type": "code",
   "execution_count": 7,
   "metadata": {},
   "outputs": [
    {
     "data": {
      "text/html": [
       "<div>\n",
       "<style scoped>\n",
       "    .dataframe tbody tr th:only-of-type {\n",
       "        vertical-align: middle;\n",
       "    }\n",
       "\n",
       "    .dataframe tbody tr th {\n",
       "        vertical-align: top;\n",
       "    }\n",
       "\n",
       "    .dataframe thead th {\n",
       "        text-align: right;\n",
       "    }\n",
       "</style>\n",
       "<table border=\"1\" class=\"dataframe\">\n",
       "  <thead>\n",
       "    <tr style=\"text-align: right;\">\n",
       "      <th></th>\n",
       "      <th>index</th>\n",
       "      <th>r</th>\n",
       "      <th>l</th>\n",
       "      <th>t</th>\n",
       "    </tr>\n",
       "  </thead>\n",
       "  <tbody>\n",
       "    <tr>\n",
       "      <th>0</th>\n",
       "      <td>0</td>\n",
       "      <td>14.0</td>\n",
       "      <td>14</td>\n",
       "      <td>0.070162</td>\n",
       "    </tr>\n",
       "    <tr>\n",
       "      <th>1</th>\n",
       "      <td>0</td>\n",
       "      <td>45.0</td>\n",
       "      <td>45</td>\n",
       "      <td>0.152162</td>\n",
       "    </tr>\n",
       "    <tr>\n",
       "      <th>2</th>\n",
       "      <td>1</td>\n",
       "      <td>35.0</td>\n",
       "      <td>35</td>\n",
       "      <td>0.164675</td>\n",
       "    </tr>\n",
       "    <tr>\n",
       "      <th>3</th>\n",
       "      <td>1</td>\n",
       "      <td>17.0</td>\n",
       "      <td>17</td>\n",
       "      <td>0.200032</td>\n",
       "    </tr>\n",
       "    <tr>\n",
       "      <th>4</th>\n",
       "      <td>2</td>\n",
       "      <td>18.0</td>\n",
       "      <td>18</td>\n",
       "      <td>0.217546</td>\n",
       "    </tr>\n",
       "    <tr>\n",
       "      <th>5</th>\n",
       "      <td>3</td>\n",
       "      <td>12.0</td>\n",
       "      <td>12</td>\n",
       "      <td>0.250064</td>\n",
       "    </tr>\n",
       "    <tr>\n",
       "      <th>6</th>\n",
       "      <td>2</td>\n",
       "      <td>26.0</td>\n",
       "      <td>26</td>\n",
       "      <td>0.275986</td>\n",
       "    </tr>\n",
       "    <tr>\n",
       "      <th>7</th>\n",
       "      <td>4</td>\n",
       "      <td>43.0</td>\n",
       "      <td>43</td>\n",
       "      <td>0.363406</td>\n",
       "    </tr>\n",
       "    <tr>\n",
       "      <th>8</th>\n",
       "      <td>3</td>\n",
       "      <td>47.0</td>\n",
       "      <td>47</td>\n",
       "      <td>0.385153</td>\n",
       "    </tr>\n",
       "    <tr>\n",
       "      <th>9</th>\n",
       "      <td>5</td>\n",
       "      <td>16.0</td>\n",
       "      <td>16</td>\n",
       "      <td>0.392659</td>\n",
       "    </tr>\n",
       "    <tr>\n",
       "      <th>10</th>\n",
       "      <td>6</td>\n",
       "      <td>27.0</td>\n",
       "      <td>27</td>\n",
       "      <td>0.451667</td>\n",
       "    </tr>\n",
       "    <tr>\n",
       "      <th>11</th>\n",
       "      <td>7</td>\n",
       "      <td>36.0</td>\n",
       "      <td>36</td>\n",
       "      <td>0.523239</td>\n",
       "    </tr>\n",
       "    <tr>\n",
       "      <th>12</th>\n",
       "      <td>4</td>\n",
       "      <td>66.0</td>\n",
       "      <td>66</td>\n",
       "      <td>0.523239</td>\n",
       "    </tr>\n",
       "    <tr>\n",
       "      <th>13</th>\n",
       "      <td>8</td>\n",
       "      <td>19.0</td>\n",
       "      <td>19</td>\n",
       "      <td>0.572145</td>\n",
       "    </tr>\n",
       "    <tr>\n",
       "      <th>14</th>\n",
       "      <td>5</td>\n",
       "      <td>22.0</td>\n",
       "      <td>22</td>\n",
       "      <td>0.581148</td>\n",
       "    </tr>\n",
       "    <tr>\n",
       "      <th>15</th>\n",
       "      <td>9</td>\n",
       "      <td>36.0</td>\n",
       "      <td>36</td>\n",
       "      <td>0.655917</td>\n",
       "    </tr>\n",
       "    <tr>\n",
       "      <th>16</th>\n",
       "      <td>10</td>\n",
       "      <td>34.0</td>\n",
       "      <td>34</td>\n",
       "      <td>0.718498</td>\n",
       "    </tr>\n",
       "    <tr>\n",
       "      <th>17</th>\n",
       "      <td>6</td>\n",
       "      <td>97.0</td>\n",
       "      <td>97</td>\n",
       "      <td>0.785544</td>\n",
       "    </tr>\n",
       "    <tr>\n",
       "      <th>18</th>\n",
       "      <td>11</td>\n",
       "      <td>37.0</td>\n",
       "      <td>37</td>\n",
       "      <td>0.800947</td>\n",
       "    </tr>\n",
       "    <tr>\n",
       "      <th>19</th>\n",
       "      <td>7</td>\n",
       "      <td>16.0</td>\n",
       "      <td>16</td>\n",
       "      <td>0.819456</td>\n",
       "    </tr>\n",
       "    <tr>\n",
       "      <th>20</th>\n",
       "      <td>8</td>\n",
       "      <td>15.0</td>\n",
       "      <td>15</td>\n",
       "      <td>0.854244</td>\n",
       "    </tr>\n",
       "    <tr>\n",
       "      <th>21</th>\n",
       "      <td>12</td>\n",
       "      <td>43.0</td>\n",
       "      <td>43</td>\n",
       "      <td>0.884438</td>\n",
       "    </tr>\n",
       "    <tr>\n",
       "      <th>22</th>\n",
       "      <td>9</td>\n",
       "      <td>57.0</td>\n",
       "      <td>57</td>\n",
       "      <td>0.969376</td>\n",
       "    </tr>\n",
       "    <tr>\n",
       "      <th>23</th>\n",
       "      <td>13</td>\n",
       "      <td>62.0</td>\n",
       "      <td>62</td>\n",
       "      <td>1.026433</td>\n",
       "    </tr>\n",
       "    <tr>\n",
       "      <th>24</th>\n",
       "      <td>10</td>\n",
       "      <td>25.0</td>\n",
       "      <td>25</td>\n",
       "      <td>1.029934</td>\n",
       "    </tr>\n",
       "    <tr>\n",
       "      <th>25</th>\n",
       "      <td>14</td>\n",
       "      <td>19.0</td>\n",
       "      <td>19</td>\n",
       "      <td>1.083818</td>\n",
       "    </tr>\n",
       "    <tr>\n",
       "      <th>26</th>\n",
       "      <td>11</td>\n",
       "      <td>35.0</td>\n",
       "      <td>35</td>\n",
       "      <td>1.118491</td>\n",
       "    </tr>\n",
       "    <tr>\n",
       "      <th>27</th>\n",
       "      <td>15</td>\n",
       "      <td>37.0</td>\n",
       "      <td>37</td>\n",
       "      <td>1.166707</td>\n",
       "    </tr>\n",
       "  </tbody>\n",
       "</table>\n",
       "</div>"
      ],
      "text/plain": [
       "    index     r   l         t\n",
       "0       0  14.0  14  0.070162\n",
       "1       0  45.0  45  0.152162\n",
       "2       1  35.0  35  0.164675\n",
       "3       1  17.0  17  0.200032\n",
       "4       2  18.0  18  0.217546\n",
       "5       3  12.0  12  0.250064\n",
       "6       2  26.0  26  0.275986\n",
       "7       4  43.0  43  0.363406\n",
       "8       3  47.0  47  0.385153\n",
       "9       5  16.0  16  0.392659\n",
       "10      6  27.0  27  0.451667\n",
       "11      7  36.0  36  0.523239\n",
       "12      4  66.0  66  0.523239\n",
       "13      8  19.0  19  0.572145\n",
       "14      5  22.0  22  0.581148\n",
       "15      9  36.0  36  0.655917\n",
       "16     10  34.0  34  0.718498\n",
       "17      6  97.0  97  0.785544\n",
       "18     11  37.0  37  0.800947\n",
       "19      7  16.0  16  0.819456\n",
       "20      8  15.0  15  0.854244\n",
       "21     12  43.0  43  0.884438\n",
       "22      9  57.0  57  0.969376\n",
       "23     13  62.0  62  1.026433\n",
       "24     10  25.0  25  1.029934\n",
       "25     14  19.0  19  1.083818\n",
       "26     11  35.0  35  1.118491\n",
       "27     15  37.0  37  1.166707"
      ]
     },
     "execution_count": 7,
     "metadata": {},
     "output_type": "execute_result"
    }
   ],
   "source": [
    "from stable_baselines3.common.results_plotter import load_results, ts2xy\n",
    "\n",
    "#加载日志,这里找的是models/*.monitor.csv\n",
    "load_results('models')"
   ]
  },
  {
   "cell_type": "code",
   "execution_count": 8,
   "metadata": {},
   "outputs": [
    {
     "data": {
      "text/plain": [
       "(array([ 14,  59,  94, 111, 129, 141, 167, 210, 257, 273, 300, 336, 402,\n",
       "        421, 443, 479, 513, 610, 647, 663, 678, 721, 778, 840, 865, 884,\n",
       "        919, 956], dtype=int64),\n",
       " array([14., 45., 35., 17., 18., 12., 26., 43., 47., 16., 27., 36., 66.,\n",
       "        19., 22., 36., 34., 97., 37., 16., 15., 43., 57., 62., 25., 19.,\n",
       "        35., 37.]))"
      ]
     },
     "execution_count": 8,
     "metadata": {},
     "output_type": "execute_result"
    }
   ],
   "source": [
    "ts2xy(load_results('models'), 'timesteps')"
   ]
  },
  {
   "cell_type": "code",
   "execution_count": 10,
   "metadata": {
    "colab": {},
    "colab_type": "code",
    "id": "nzMHj7r3h78m"
   },
   "outputs": [
    {
     "data": {
      "text/plain": [
       "(9.1, 0.7000000000000001)"
      ]
     },
     "execution_count": 10,
     "metadata": {},
     "output_type": "execute_result"
    }
   ],
   "source": [
    "#保存最优模型\n",
    "class SaveOnBestTrainingRewardCallback(BaseCallback):\n",
    "\n",
    "    def __init__(self):\n",
    "        super().__init__(verbose=0)\n",
    "\n",
    "        self.best = -float('inf')\n",
    "\n",
    "    def _on_step(self):\n",
    "        #self.n_calls是个从1开始的数\n",
    "        if self.n_calls % 1000 != 0:\n",
    "            return True\n",
    "\n",
    "        #读取日志\n",
    "        x, y = ts2xy(load_results('models'), 'timesteps')\n",
    "\n",
    "        #求最后100个reward的均值\n",
    "        mean_reward = sum(y[-100:]) / len(y[-100:])\n",
    "\n",
    "        print(self.num_timesteps, self.best, mean_reward)\n",
    "\n",
    "        #判断保存\n",
    "        if mean_reward > self.best:\n",
    "            self.best = mean_reward\n",
    "            print('save', x[-1])\n",
    "            self.model.save('models/best_model')\n",
    "\n",
    "        return True\n",
    "\n",
    "\n",
    "test_callback(SaveOnBestTrainingRewardCallback())"
   ]
  },
  {
   "cell_type": "code",
   "execution_count": 11,
   "metadata": {
    "colab": {},
    "colab_type": "code",
    "id": "c0Bu1HWKRUn4"
   },
   "outputs": [
    {
     "data": {
      "text/plain": [
       "(33.2, 6.786751800382861)"
      ]
     },
     "execution_count": 11,
     "metadata": {},
     "output_type": "execute_result"
    }
   ],
   "source": [
    "#可以打印或者画图的callback\n",
    "class PlottingCallback(BaseCallback):\n",
    "\n",
    "    def __init__(self, verbose=0):\n",
    "        super().__init__(verbose=0)\n",
    "\n",
    "    def _on_step(self) -> bool:\n",
    "        if self.n_calls % 1000 != 0:\n",
    "            return True\n",
    "\n",
    "        x, y = ts2xy(load_results('models'), 'timesteps')\n",
    "        print(self.n_calls)\n",
    "        print('x=', x)\n",
    "        print('y=', y)\n",
    "\n",
    "        return True\n",
    "\n",
    "\n",
    "test_callback(PlottingCallback())"
   ]
  },
  {
   "cell_type": "code",
   "execution_count": 16,
   "metadata": {
    "colab": {},
    "colab_type": "code",
    "id": "pXa8f6FsRUn8"
   },
   "outputs": [
    {
     "name": "stderr",
     "output_type": "stream",
     "text": [
      "  0%|          | 1/5000 [00:00<00:48, 102.98it/s]\n"
     ]
    },
    {
     "data": {
      "text/plain": [
       "(9.75, 0.6224949798994366)"
      ]
     },
     "execution_count": 16,
     "metadata": {},
     "output_type": "execute_result"
    }
   ],
   "source": [
    "from tqdm.auto import tqdm\n",
    "\n",
    "\n",
    "#更新进度条的callback\n",
    "class ProgressBarCallback(BaseCallback):\n",
    "\n",
    "    def __init__(self):\n",
    "        super().__init__()\n",
    "        self.pbar = tqdm(total=5000)\n",
    "\n",
    "    def _on_step(self):\n",
    "        self.pbar.update(1)\n",
    "\n",
    "    def _on_training_end(self) -> None:\n",
    "        self.pbar.close()\n",
    "\n",
    "\n",
    "test_callback(ProgressBarCallback())"
   ]
  },
  {
   "cell_type": "code",
   "execution_count": 17,
   "metadata": {
    "scrolled": true
   },
   "outputs": [
    {
     "name": "stderr",
     "output_type": "stream",
     "text": [
      "  0%|          | 1/5000 [00:00<00:49, 100.66it/s]\n"
     ]
    },
    {
     "data": {
      "text/plain": [
       "(10.8, 2.2494443758403984)"
      ]
     },
     "execution_count": 17,
     "metadata": {},
     "output_type": "execute_result"
    }
   ],
   "source": [
    "#同时使用多个callback\n",
    "test_callback([PlottingCallback(), ProgressBarCallback()])"
   ]
  }
 ],
 "metadata": {
  "accelerator": "GPU",
  "colab": {
   "collapsed_sections": [],
   "include_colab_link": true,
   "name": "4_callbacks_hyperparameter_tuning.ipynb",
   "provenance": []
  },
  "kernelspec": {
   "display_name": "Python 3 (ipykernel)",
   "language": "python",
   "name": "python3"
  },
  "language_info": {
   "codemirror_mode": {
    "name": "ipython",
    "version": 3
   },
   "file_extension": ".py",
   "mimetype": "text/x-python",
   "name": "python",
   "nbconvert_exporter": "python",
   "pygments_lexer": "ipython3",
   "version": "3.10.14"
  }
 },
 "nbformat": 4,
 "nbformat_minor": 1
}
