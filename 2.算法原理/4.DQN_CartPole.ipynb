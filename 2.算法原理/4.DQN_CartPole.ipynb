{
 "cells": [
  {
   "cell_type": "code",
   "execution_count": 1,
   "metadata": {},
   "outputs": [
    {
     "data": {
      "text/plain": [
       "(array([ 0.03653317, -0.00187937, -0.02338587,  0.00402136], dtype=float32),\n",
       " {})"
      ]
     },
     "execution_count": 1,
     "metadata": {},
     "output_type": "execute_result"
    }
   ],
   "source": [
    "import gymnasium as gym\n",
    "\n",
    "\n",
    "#定义环境\n",
    "class MyWrapper(gym.Wrapper):\n",
    "\n",
    "    def __init__(self):\n",
    "        env = gym.make('CartPole-v1', render_mode='rgb_array')\n",
    "        super().__init__(env)\n",
    "        self.env = env\n",
    "        self.step_n = 0\n",
    "\n",
    "    def reset(self,**kwargs):\n",
    "        self.step_n = 0\n",
    "        return self.env.reset(**kwargs)\n",
    "\n",
    "\n",
    "    def step(self, action):\n",
    "        state, reward, terminated, truncated, info = self.env.step(action)\n",
    "\n",
    "        #一局游戏最多走N步\n",
    "        self.step_n += 1\n",
    "        if self.step_n >= 200:\n",
    "            terminated = True\n",
    "\n",
    "        return state, reward, terminated, truncated, info\n",
    "\n",
    "\n",
    "env = MyWrapper()\n",
    "\n",
    "env.reset()\n"
   ]
  },
  {
   "cell_type": "code",
   "execution_count": 2,
   "metadata": {},
   "outputs": [
    {
     "data": {
      "image/png": "[encoded data removed]",
      "text/plain": [
       "<Figure size 300x300 with 1 Axes>"
      ]
     },
     "metadata": {},
     "output_type": "display_data"
    }
   ],
   "source": [
    "from matplotlib import pyplot as plt\n",
    "\n",
    "%matplotlib inline\n",
    "\n",
    "\n",
    "#打印游戏\n",
    "def show():\n",
    "    plt.figure(figsize=(3, 3))\n",
    "    plt.imshow(env.render())\n",
    "    plt.show()\n",
    "\n",
    "\n",
    "show()"
   ]
  },
  {
   "cell_type": "code",
   "execution_count": 3,
   "metadata": {
    "scrolled": false
   },
   "outputs": [
    {
     "name": "stdout",
     "output_type": "stream",
     "text": [
      "env.observation_space= Box([-4.8000002e+00 -3.4028235e+38 -4.1887903e-01 -3.4028235e+38], [4.8000002e+00 3.4028235e+38 4.1887903e-01 3.4028235e+38], (4,), float32)\n",
      "env.action_space= Discrete(2)\n",
      "state= [-0.01347326 -0.00353876 -0.04355745  0.02381279]\n",
      "action= 1\n",
      "next_state= [-0.01354404  0.1921799  -0.04308119 -0.28228858]\n",
      "reward= 1.0\n",
      "done= False\n",
      "probs= {}\n"
     ]
    }
   ],
   "source": [
    "#认识游戏环境\n",
    "def test_env():\n",
    "    print('env.observation_space=', env.observation_space)\n",
    "    print('env.action_space=', env.action_space)\n",
    "\n",
    "    state, probs = env.reset()\n",
    "    action = env.action_space.sample()\n",
    "    next_state, reward, terminated, truncated, info  = env.step(action)\n",
    "\n",
    "    print('state=', state)\n",
    "    print('action=', action)\n",
    "    print('next_state=', next_state)\n",
    "    print('reward=', reward)\n",
    "    print('done=', terminated)\n",
    "    print('probs=',probs)\n",
    "\n",
    "\n",
    "test_env()"
   ]
  },
  {
   "cell_type": "code",
   "execution_count": 4,
   "metadata": {},
   "outputs": [
    {
     "name": "stderr",
     "output_type": "stream",
     "text": [
      "c:\\Users\\13306\\anaconda3\\envs\\SB3\\lib\\site-packages\\tqdm\\auto.py:21: TqdmWarning: IProgress not found. Please update jupyter and ipywidgets. See https://ipywidgets.readthedocs.io/en/stable/user_install.html\n",
      "  from .autonotebook import tqdm as notebook_tqdm\n"
     ]
    },
    {
     "data": {
      "text/plain": [
       "(Sequential(\n",
       "   (0): Linear(in_features=4, out_features=128, bias=True)\n",
       "   (1): ReLU()\n",
       "   (2): Linear(in_features=128, out_features=2, bias=True)\n",
       " ),\n",
       " Sequential(\n",
       "   (0): Linear(in_features=4, out_features=128, bias=True)\n",
       "   (1): ReLU()\n",
       "   (2): Linear(in_features=128, out_features=2, bias=True)\n",
       " ))"
      ]
     },
     "execution_count": 4,
     "metadata": {},
     "output_type": "execute_result"
    }
   ],
   "source": [
    "import torch\n",
    "\n",
    "device = torch.device(\"cuda\" if torch.cuda.is_available() else \"cpu\")\n",
    "\n",
    "#计算动作的模型,也是真正要用的模型\n",
    "model = torch.nn.Sequential(\n",
    "    torch.nn.Linear(4, 128),\n",
    "    torch.nn.ReLU(),\n",
    "    torch.nn.Linear(128, 2),\n",
    ").to(device)\n",
    "\n",
    "#经验网络,用于评估一个状态的分数\n",
    "target_model = torch.nn.Sequential(\n",
    "    torch.nn.Linear(4, 128),\n",
    "    torch.nn.ReLU(),\n",
    "    torch.nn.Linear(128, 2),\n",
    ").to(device)\n",
    "\n",
    "#把model的参数复制给next_model\n",
    "target_model.load_state_dict(model.state_dict())\n",
    "\n",
    "model, target_model"
   ]
  },
  {
   "cell_type": "code",
   "execution_count": 5,
   "metadata": {},
   "outputs": [
    {
     "data": {
      "text/plain": [
       "0"
      ]
     },
     "execution_count": 5,
     "metadata": {},
     "output_type": "execute_result"
    }
   ],
   "source": [
    "import random\n",
    "\n",
    "\n",
    "#得到一个动作\n",
    "def get_action(state):\n",
    "    if random.random() < 0.01:\n",
    "        return random.choice([0, 1])\n",
    "\n",
    "    #走神经网络,得到一个动作\n",
    "    state = torch.FloatTensor(state).reshape(1, 4).to(device) #batch_size, state_size\n",
    "\n",
    "    #print(model(state))\n",
    "    #print(model(state).argmax())\n",
    "    #print(model(state).argmax().item()) # o or 1, indicates the best action\n",
    "\n",
    "    return model(state).argmax().item() # forward, return the max q and the action\n",
    "\n",
    "\n",
    "get_action([0.0013847, -0.01194451, 0.04260966, 0.00688801])"
   ]
  },
  {
   "cell_type": "markdown",
   "metadata": {},
   "source": [
    "## 使用 CUDA buffer"
   ]
  },
  {
   "cell_type": "code",
   "execution_count": 34,
   "metadata": {},
   "outputs": [
    {
     "data": {
      "text/plain": [
       "303"
      ]
     },
     "execution_count": 34,
     "metadata": {},
     "output_type": "execute_result"
    }
   ],
   "source": [
    "#制造样本池。 这里没有用到cuda，所以不使用了\n",
    "datas = []\n",
    "\n",
    "\n",
    "#向样本池中添加N条数据,删除M条最古老的数据\n",
    "def update_data():\n",
    "    old_count = len(datas)\n",
    "\n",
    "    #玩到新增了N个数据为止\n",
    "    while len(datas) - old_count < 199:\n",
    "        #初始化游戏\n",
    "        state, _ = env.reset()\n",
    "        # print(state)\n",
    "\n",
    "        #玩到游戏结束为止\n",
    "        terminated = False\n",
    "        while not terminated:\n",
    "            #根据当前状态得到一个动作\n",
    "            action = get_action(state)\n",
    "\n",
    "\n",
    "            #执行动作,得到反馈\n",
    "            next_state, reward, terminated, truncated, info = env.step(action)\n",
    "            # print(next_state, reward, terminated, truncated, info )\n",
    "\n",
    "            #记录数据样本\n",
    "            datas.append((state, action, reward, next_state, terminated))\n",
    "\n",
    "            #更新游戏状态,开始下一个动作\n",
    "            state = next_state\n",
    "\n",
    "    #数据上限,超出时从最古老的开始删除\n",
    "    while len(datas) > 1_0000:\n",
    "        datas.pop(0)\n",
    "\n",
    "\n",
    "update_data()\n",
    "len(datas)"
   ]
  },
  {
   "cell_type": "code",
   "execution_count": 7,
   "metadata": {
    "scrolled": true
   },
   "outputs": [
    {
     "name": "stderr",
     "output_type": "stream",
     "text": [
      "C:\\Users\\13306\\AppData\\Local\\Temp\\ipykernel_60336\\3070215748.py:7: UserWarning: Creating a tensor from a list of numpy.ndarrays is extremely slow. Please consider converting the list to a single numpy.ndarray with numpy.array() before converting to a tensor. (Triggered internally at C:\\cb\\pytorch_1000000000000\\work\\torch\\csrc\\utils\\tensor_new.cpp:233.)\n",
      "  state = torch.FloatTensor([i[0] for i in samples]).reshape(-1, 4).to(device)\n"
     ]
    },
    {
     "data": {
      "text/plain": [
       "(torch.Size([64, 4]),\n",
       " tensor([[0, 0, 0, 1, 0, 1, 1, 1, 1, 0, 1, 0, 1, 0, 0, 0, 0, 1, 0, 1, 0, 0, 1, 0,\n",
       "          1, 1, 1, 0, 1, 0, 1, 1, 0, 1, 0, 0, 0, 1, 0, 0, 1, 0, 1, 0, 1, 1, 1, 1,\n",
       "          1, 0, 1, 0, 0, 1, 1, 1, 1, 1, 0, 0, 1, 1, 1, 0]], device='cuda:0'),\n",
       " tensor([[1., 1., 1., 1., 1., 1., 1., 1., 1., 1., 1., 1., 1., 1., 1., 1., 1., 1.,\n",
       "          1., 1., 1., 1., 1., 1., 1., 1., 1., 1., 1., 1., 1., 1., 1., 1., 1., 1.,\n",
       "          1., 1., 1., 1., 1., 1., 1., 1., 1., 1., 1., 1., 1., 1., 1., 1., 1., 1.,\n",
       "          1., 1., 1., 1., 1., 1., 1., 1., 1., 1.]], device='cuda:0'),\n",
       " torch.Size([64, 4]),\n",
       " tensor([[0, 0, 1, 0, 0, 0, 0, 0, 0, 0, 0, 0, 0, 0, 0, 0, 0, 0, 0, 1, 0, 0, 0, 0,\n",
       "          0, 0, 0, 0, 0, 0, 0, 0, 0, 0, 0, 0, 0, 0, 0, 0, 0, 0, 0, 0, 0, 0, 0, 0,\n",
       "          0, 0, 0, 0, 0, 0, 0, 0, 0, 0, 0, 0, 0, 0, 0, 0]], device='cuda:0'))"
      ]
     },
     "execution_count": 7,
     "metadata": {},
     "output_type": "execute_result"
    }
   ],
   "source": [
    "#获取一批数据样本\n",
    "def get_sample():\n",
    "    #从样本池中64个采样\n",
    "    samples = random.sample(datas, 64)\n",
    "\n",
    "    #[b, 4]\n",
    "    state = torch.FloatTensor([i[0] for i in samples]).reshape(-1, 4).to(device)\n",
    "    #[b, 1]\n",
    "    action = torch.LongTensor([i[1] for i in samples]).reshape(-1, 1).to(device)\n",
    "    #[b, 1]\n",
    "    reward = torch.FloatTensor([i[2] for i in samples]).reshape(-1, 1).to(device)\n",
    "    #[b, 4]\n",
    "    next_state = torch.FloatTensor([i[3] for i in samples]).reshape(-1, 4).to(device)\n",
    "    #[b, 1]\n",
    "    over = torch.LongTensor([i[4] for i in samples]).reshape(-1, 1).to(device)\n",
    "\n",
    "    return state, action, reward, next_state, over\n",
    "\n",
    "\n",
    "state, action, reward, next_state, over = get_sample()\n",
    "\n",
    "state.size(), action.reshape(1,-1), reward.reshape(1,-1), next_state.size(), over.reshape(1,-1)"
   ]
  },
  {
   "cell_type": "code",
   "execution_count": 8,
   "metadata": {
    "scrolled": true
   },
   "outputs": [
    {
     "data": {
      "text/plain": [
       "tensor([[0.0385],\n",
       "        [0.0750],\n",
       "        [0.0379],\n",
       "        [0.1247],\n",
       "        [0.0277],\n",
       "        [0.0720],\n",
       "        [0.0932],\n",
       "        [0.1174],\n",
       "        [0.0302],\n",
       "        [0.0313],\n",
       "        [0.1478],\n",
       "        [0.0341],\n",
       "        [0.1269],\n",
       "        [0.0319],\n",
       "        [0.0401],\n",
       "        [0.0362],\n",
       "        [0.0794],\n",
       "        [0.0622],\n",
       "        [0.0360],\n",
       "        [0.1329],\n",
       "        [0.0318],\n",
       "        [0.0383],\n",
       "        [0.0312],\n",
       "        [0.0382],\n",
       "        [0.0895],\n",
       "        [0.0296],\n",
       "        [0.0896],\n",
       "        [0.0333],\n",
       "        [0.0625],\n",
       "        [0.0368],\n",
       "        [0.0552],\n",
       "        [0.0779],\n",
       "        [0.0353],\n",
       "        [0.0526],\n",
       "        [0.0331],\n",
       "        [0.0252],\n",
       "        [0.0311],\n",
       "        [0.0380],\n",
       "        [0.0404],\n",
       "        [0.0364],\n",
       "        [0.0406],\n",
       "        [0.0307],\n",
       "        [0.0371],\n",
       "        [0.0858],\n",
       "        [0.0988],\n",
       "        [0.1372],\n",
       "        [0.0416],\n",
       "        [0.1116],\n",
       "        [0.0281],\n",
       "        [0.0400],\n",
       "        [0.0651],\n",
       "        [0.0334],\n",
       "        [0.0366],\n",
       "        [0.0490],\n",
       "        [0.0583],\n",
       "        [0.0833],\n",
       "        [0.0291],\n",
       "        [0.0657],\n",
       "        [0.0324],\n",
       "        [0.0409],\n",
       "        [0.0473],\n",
       "        [0.1204],\n",
       "        [0.0949],\n",
       "        [0.0383]], device='cuda:0', grad_fn=<GatherBackward0>)"
      ]
     },
     "execution_count": 8,
     "metadata": {},
     "output_type": "execute_result"
    }
   ],
   "source": [
    "def get_qvalue(state, action):\n",
    "    #使用状态计算出动作的logits\n",
    "    #[b, 4] -> [b, 2]\n",
    "    # print(state, action)\n",
    "    value = model(state) # action is already obtained by forward calculation via model(state).argmax().item()\n",
    "    # print(value)\n",
    "\n",
    "    #根据实际使用的action取出每一个值\n",
    "    #这个值就是模型评估的在该状态下,执行动作的分数\n",
    "    #在执行动作前,显然并不知道会得到的反馈和next_state\n",
    "    #所以这里不能也不需要考虑next_state和reward\n",
    "    #[b, 2] -> [b, 1]\n",
    "    value = value.gather(dim=1, index=action) # the action is the best one in current state\n",
    "    # print(value) # best q\n",
    "\n",
    "    return value # q value\n",
    "\n",
    "\n",
    "get_qvalue(state, action) # 64 samples, action space 0 and 1"
   ]
  },
  {
   "cell_type": "code",
   "execution_count": 37,
   "metadata": {
    "scrolled": true
   },
   "outputs": [
    {
     "name": "stdout",
     "output_type": "stream",
     "text": [
      "tensor([[21.3020, 27.3173],\n",
      "        [49.3474, 49.1575],\n",
      "        [15.1400, 21.8596],\n",
      "        [43.1486, 45.7153],\n",
      "        [44.5409, 47.4569],\n",
      "        [38.6912, 41.8864],\n",
      "        [38.2400, 41.8224],\n",
      "        [26.8617, 32.1503],\n",
      "        [43.4888, 45.2425],\n",
      "        [35.4382, 40.0791],\n",
      "        [28.0833, 33.5425],\n",
      "        [32.6366, 38.3292],\n",
      "        [33.3827, 38.1785],\n",
      "        [25.7422, 31.8381],\n",
      "        [47.5144, 49.3074],\n",
      "        [42.4028, 45.3046],\n",
      "        [49.0607, 49.5487],\n",
      "        [40.7599, 43.3117],\n",
      "        [14.9178, 21.7229],\n",
      "        [15.1952, 21.2612],\n",
      "        [39.0250, 42.7838],\n",
      "        [44.9190, 47.1404],\n",
      "        [47.4434, 48.5534],\n",
      "        [44.2308, 46.3658],\n",
      "        [22.1296, 27.3422],\n",
      "        [46.6276, 47.8598],\n",
      "        [37.5428, 41.1468],\n",
      "        [37.8998, 41.9264],\n",
      "        [23.7313, 28.4206],\n",
      "        [16.0343, 22.9589],\n",
      "        [46.7782, 48.2425],\n",
      "        [22.2966, 27.4004],\n",
      "        [35.6870, 40.1811],\n",
      "        [28.1739, 32.6828],\n",
      "        [31.8566, 37.2615],\n",
      "        [47.9610, 49.5237],\n",
      "        [23.5533, 29.8602],\n",
      "        [49.5489, 49.5359],\n",
      "        [45.8443, 48.2057],\n",
      "        [15.3020, 22.1743],\n",
      "        [30.8511, 35.0147],\n",
      "        [31.1439, 36.6490],\n",
      "        [45.7056, 47.1605],\n",
      "        [49.2201, 48.9860],\n",
      "        [23.2396, 28.5401],\n",
      "        [39.0706, 42.6862],\n",
      "        [45.6427, 47.1505],\n",
      "        [30.4590, 35.3494],\n",
      "        [48.6560, 49.2131],\n",
      "        [46.5510, 48.4222],\n",
      "        [44.9982, 46.8467],\n",
      "        [32.6694, 37.6145],\n",
      "        [44.7619, 46.9705],\n",
      "        [43.4926, 45.3267],\n",
      "        [28.6045, 33.1612],\n",
      "        [33.7560, 37.7423],\n",
      "        [49.1177, 49.6571],\n",
      "        [37.6224, 40.7119],\n",
      "        [29.6315, 35.2958],\n",
      "        [47.7461, 49.2257],\n",
      "        [40.3809, 42.9163],\n",
      "        [45.5844, 47.5126],\n",
      "        [32.1469, 36.6871],\n",
      "        [22.4511, 28.5730]], device='cuda:0')\n",
      "torch.return_types.max(\n",
      "values=tensor([27.3173, 49.3474, 21.8596, 45.7153, 47.4569, 41.8864, 41.8224, 32.1503,\n",
      "        45.2425, 40.0791, 33.5425, 38.3292, 38.1785, 31.8381, 49.3074, 45.3046,\n",
      "        49.5487, 43.3117, 21.7229, 21.2612, 42.7838, 47.1404, 48.5534, 46.3658,\n",
      "        27.3422, 47.8598, 41.1468, 41.9264, 28.4206, 22.9589, 48.2425, 27.4004,\n",
      "        40.1811, 32.6828, 37.2615, 49.5237, 29.8602, 49.5489, 48.2057, 22.1743,\n",
      "        35.0147, 36.6490, 47.1605, 49.2201, 28.5401, 42.6862, 47.1505, 35.3494,\n",
      "        49.2131, 48.4222, 46.8467, 37.6145, 46.9705, 45.3267, 33.1612, 37.7423,\n",
      "        49.6571, 40.7119, 35.2958, 49.2257, 42.9163, 47.5126, 36.6871, 28.5730],\n",
      "       device='cuda:0'),\n",
      "indices=tensor([1, 0, 1, 1, 1, 1, 1, 1, 1, 1, 1, 1, 1, 1, 1, 1, 1, 1, 1, 1, 1, 1, 1, 1,\n",
      "        1, 1, 1, 1, 1, 1, 1, 1, 1, 1, 1, 1, 1, 0, 1, 1, 1, 1, 1, 0, 1, 1, 1, 1,\n",
      "        1, 1, 1, 1, 1, 1, 1, 1, 1, 1, 1, 1, 1, 1, 1, 1], device='cuda:0')) tensor([27.3173, 49.3474, 21.8596, 45.7153, 47.4569, 41.8864, 41.8224, 32.1503,\n",
      "        45.2425, 40.0791, 33.5425, 38.3292, 38.1785, 31.8381, 49.3074, 45.3046,\n",
      "        49.5487, 43.3117, 21.7229, 21.2612, 42.7838, 47.1404, 48.5534, 46.3658,\n",
      "        27.3422, 47.8598, 41.1468, 41.9264, 28.4206, 22.9589, 48.2425, 27.4004,\n",
      "        40.1811, 32.6828, 37.2615, 49.5237, 29.8602, 49.5489, 48.2057, 22.1743,\n",
      "        35.0147, 36.6490, 47.1605, 49.2201, 28.5401, 42.6862, 47.1505, 35.3494,\n",
      "        49.2131, 48.4222, 46.8467, 37.6145, 46.9705, 45.3267, 33.1612, 37.7423,\n",
      "        49.6571, 40.7119, 35.2958, 49.2257, 42.9163, 47.5126, 36.6871, 28.5730],\n",
      "       device='cuda:0')\n"
     ]
    },
    {
     "data": {
      "text/plain": [
       "tensor([[27.7710],\n",
       "        [49.3605],\n",
       "        [ 1.0000],\n",
       "        [45.8010],\n",
       "        [47.5078],\n",
       "        [42.0487],\n",
       "        [41.9860],\n",
       "        [32.5073],\n",
       "        [45.3377],\n",
       "        [40.2775],\n",
       "        [33.8716],\n",
       "        [38.5626],\n",
       "        [38.4150],\n",
       "        [32.2014],\n",
       "        [49.3212],\n",
       "        [45.3985],\n",
       "        [49.5577],\n",
       "        [43.4455],\n",
       "        [22.2885],\n",
       "        [ 1.0000],\n",
       "        [42.9281],\n",
       "        [47.1976],\n",
       "        [48.5823],\n",
       "        [46.4385],\n",
       "        [27.7954],\n",
       "        [47.9026],\n",
       "        [41.3238],\n",
       "        [42.0879],\n",
       "        [28.8522],\n",
       "        [23.4998],\n",
       "        [48.2777],\n",
       "        [27.8524],\n",
       "        [40.3775],\n",
       "        [33.0291],\n",
       "        [37.5162],\n",
       "        [49.5332],\n",
       "        [30.2630],\n",
       "        [49.5580],\n",
       "        [48.2416],\n",
       "        [22.7308],\n",
       "        [35.3144],\n",
       "        [36.9160],\n",
       "        [47.2173],\n",
       "        [49.2357],\n",
       "        [28.9693],\n",
       "        [42.8325],\n",
       "        [47.2075],\n",
       "        [35.6424],\n",
       "        [49.2288],\n",
       "        [48.4537],\n",
       "        [46.9098],\n",
       "        [37.8622],\n",
       "        [47.0311],\n",
       "        [45.4202],\n",
       "        [33.4980],\n",
       "        [37.9875],\n",
       "        [49.6639],\n",
       "        [40.8977],\n",
       "        [35.5899],\n",
       "        [49.2412],\n",
       "        [43.0580],\n",
       "        [47.5624],\n",
       "        [36.9533],\n",
       "        [29.0016]], device='cuda:0')"
      ]
     },
     "execution_count": 37,
     "metadata": {},
     "output_type": "execute_result"
    }
   ],
   "source": [
    "def get_target(reward, next_state, over):\n",
    "    #上面已经把模型认为的状态下执行动作的分数给评估出来了, i.e., q value\n",
    "    #下面使用next_state和reward计算真实的分数\n",
    "    #针对一个状态,它到底应该多少分,可以使用以往模型积累的经验评估\n",
    "    #这也是没办法的办法,因为显然没有精确解,这里使用延迟更新的next_model评估\n",
    "\n",
    "    #使用next_state计算下一个状态的分数\n",
    "    #[b, 4] -> [b, 2]\n",
    "    with torch.no_grad():\n",
    "        target = target_model(next_state) # return the q value and action\n",
    "    #print(target)\n",
    "    #取所有动作中分数最大的\n",
    "    #[b, 2] -> [b, 1]\n",
    "    #print(target.max(dim=1),target.max(dim=1)[0])\n",
    "    target = target.max(dim=1)[0] # the max q value\n",
    "    target_next_action = target.max(dim=1)[1] # the max q value\n",
    "    target = target.reshape(-1, 1) # (64, 1) batch_size:64\n",
    "\n",
    "    #下一个状态的分数乘以一个系数,相当于权重\n",
    "    target *= 0.98\n",
    "\n",
    "    #如果next_state已经游戏结束,则next_state的分数是0\n",
    "    #因为如果下一步已经游戏结束,显然不需要再继续玩下去,也就不需要考虑next_state了.\n",
    "    #[b, 1] * [b, 1] -> [b, 1]\n",
    "    target *= (1 - over)\n",
    "\n",
    "    #加上reward就是最终的分数\n",
    "    #[b, 1] + [b, 1] -> [b, 1]\n",
    "    target += reward\n",
    "\n",
    "    return target\n",
    "\n",
    "\n",
    "get_target(reward, next_state, over)"
   ]
  },
  {
   "cell_type": "code",
   "execution_count": 10,
   "metadata": {},
   "outputs": [
    {
     "data": {
      "text/plain": [
       "22.3"
      ]
     },
     "execution_count": 10,
     "metadata": {},
     "output_type": "execute_result"
    }
   ],
   "source": [
    "from IPython import display\n",
    "\n",
    "\n",
    "def test(play=False):\n",
    "    state,_ = env.reset()\n",
    "    reward_sum = 0\n",
    "    terminated = False\n",
    "    while not terminated:\n",
    "        action = get_action(state)\n",
    "        state, reward, terminated, truncated, info  = env.step(action)\n",
    "        reward_sum += reward\n",
    "\n",
    "        if play and random.random() < 0.2:  #跳帧\n",
    "            display.clear_output(wait=True)\n",
    "            show()\n",
    "\n",
    "    return reward_sum\n",
    "\n",
    "\n",
    "sum([test() for _ in range(20)]) / 20"
   ]
  },
  {
   "cell_type": "code",
   "execution_count": 11,
   "metadata": {
    "id": "OHoSU6uI-xIt",
    "scrolled": false
   },
   "outputs": [
    {
     "name": "stdout",
     "output_type": "stream",
     "text": [
      "0 429 9.8\n",
      "50 10000 138.8\n",
      "100 10000 161.4\n",
      "150 10000 196.4\n",
      "200 10000 200.0\n",
      "250 10000 172.0\n",
      "300 10000 184.4\n",
      "350 10000 188.0\n"
     ]
    }
   ],
   "source": [
    "def train():\n",
    "    model.train()\n",
    "    optimizer = torch.optim.Adam(model.parameters(), lr=2e-3)\n",
    "    loss_fn = torch.nn.MSELoss()\n",
    "\n",
    "    #训练N次\n",
    "    for epoch in range(400):\n",
    "        #更新N条数据\n",
    "        update_data()\n",
    "\n",
    "        #每次更新过数据后,每次64个sample,学习100次\n",
    "        for i in range(100):\n",
    "            #采样一批数据\n",
    "            state, action, reward, next_state, over = get_sample() # 64个sample\n",
    "\n",
    "            #计算一批样本的value和target\n",
    "            value = get_qvalue(state, action)\n",
    "            target = get_target(reward, next_state, over)\n",
    "\n",
    "            #更新参数\n",
    "            loss = loss_fn(value, target)\n",
    "            optimizer.zero_grad()\n",
    "            loss.backward()\n",
    "            optimizer.step()\n",
    "\n",
    "            #把model的参数复制给next_model every 10 steps\n",
    "            if (i + 1) % 10 == 0:\n",
    "                target_model.load_state_dict(model.state_dict())\n",
    "\n",
    "        if epoch % 50 == 0:\n",
    "            print(epoch, len(datas), sum([test() for _ in range(5)]) / 5)\n",
    "\n",
    "    torch.save(model, 'save/4.DQN_CartPole')\n",
    "\n",
    "\n",
    "train()"
   ]
  },
  {
   "cell_type": "code",
   "execution_count": 31,
   "metadata": {},
   "outputs": [
    {
     "data": {
      "image/png": "[encoded data removed]",
      "text/plain": [
       "<Figure size 300x300 with 1 Axes>"
      ]
     },
     "metadata": {},
     "output_type": "display_data"
    },
    {
     "data": {
      "text/plain": [
       "200.0"
      ]
     },
     "execution_count": 31,
     "metadata": {},
     "output_type": "execute_result"
    }
   ],
   "source": [
    "model = torch.load('save/4.DQN_CartPole')\n",
    "\n",
    "test(play=True)"
   ]
  }
 ],
 "metadata": {
  "colab": {
   "collapsed_sections": [],
   "name": "第7章-DQN算法.ipynb",
   "provenance": []
  },
  "kernelspec": {
   "display_name": "Python 3 (ipykernel)",
   "language": "python",
   "name": "python3"
  },
  "language_info": {
   "codemirror_mode": {
    "name": "ipython",
    "version": 3
   },
   "file_extension": ".py",
   "mimetype": "text/x-python",
   "name": "python",
   "nbconvert_exporter": "python",
   "pygments_lexer": "ipython3",
   "version": "3.10.14"
  }
 },
 "nbformat": 4,
 "nbformat_minor": 1
}
